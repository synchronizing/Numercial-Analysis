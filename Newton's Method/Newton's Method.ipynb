{
 "cells": [
  {
   "cell_type": "markdown",
   "metadata": {},
   "source": [
    "## Newton's Method\n",
    "\n",
    "Assume that an initial estimate $x_0$ is known for the desired root $\\alpha$ of $f(x) = 0$. Newton's method will produce a sequence of iterates $\\{ x_n : x \\ge 1\\}$, which we hope will converge to $\\alpha$. \n",
    "\n",
    "1. Since $x_0$ is assumed close to $\\alpha$, approximate the graph of $y = f(x)$ in the vicinity of its root $\\alpha$ by constructing its tangent line at $(x_0, f(x_0))$. \n",
    "2. Then use the root of this tangent line to approximate $\\alpha$; call this new approximation $x_1$.\n",
    "3. Repeat this process, ad infinitum, to obtain a sequence of iterates $x_n$. \n",
    "\n",
    "$$\n",
    "x_{n+1} = x_n - \\frac{f(x_n)}{f'(x_n)} \\ n \\ge 0\n",
    "$$"
   ]
  },
  {
   "cell_type": "code",
   "execution_count": 41,
   "metadata": {},
   "outputs": [],
   "source": [
    "from math import pow, exp, sin, cos\n",
    "import matplotlib.pyplot as plt\n",
    "import numpy as np"
   ]
  },
  {
   "cell_type": "code",
   "execution_count": 42,
   "metadata": {},
   "outputs": [],
   "source": [
    "def f(n):\n",
    "    return np.exp(-n/5) - np.sin(n)\n",
    "\n",
    "def df(n):\n",
    "    return 0 - (np.exp(-n/5)/5) - np.cos(n)"
   ]
  },
  {
   "cell_type": "markdown",
   "metadata": {},
   "source": [
    "### Graph of the Function"
   ]
  },
  {
   "cell_type": "code",
   "execution_count": 43,
   "metadata": {},
   "outputs": [
    {
     "data": {
      "text/plain": [
       "<matplotlib.lines.Line2D at 0x109d72b70>"
      ]
     },
     "execution_count": 43,
     "metadata": {},
     "output_type": "execute_result"
    },
    {
     "data": {
      "image/png": "[encoded data removed]",
      "text/plain": [
       "<Figure size 432x288 with 1 Axes>"
      ]
     },
     "metadata": {},
     "output_type": "display_data"
    }
   ],
   "source": [
    "t1 = np.arange(-5, 10, 0.1)\n",
    "plt.plot(t1, f(t1))\n",
    "\n",
    "plt.axhline(0, color='black')\n",
    "plt.axvline(0, color='black')"
   ]
  },
  {
   "cell_type": "markdown",
   "metadata": {},
   "source": [
    "### Find Roots\n",
    "\n",
    "$$\n",
    "x_{n+1} = x_n - \\frac{f(x_n)}{f'(x_n)} \\ n \\ge 0\n",
    "$$\n",
    "\n",
    "Notice that what we are doing is essentially grabbing the tangent "
   ]
  },
  {
   "cell_type": "code",
   "execution_count": 45,
   "metadata": {},
   "outputs": [
    {
     "name": "stdout",
     "output_type": "stream",
     "text": [
      "Iterated: 4 times.\n",
      "f(0) = 0.9683197983706969\n",
      "Iterated: 2 times.\n",
      "f(0) = 2.4880810122075436\n",
      "Iterated: 2 times.\n",
      "f(0) = 6.556052464510788\n",
      "Iterated: 2 times.\n",
      "f(0) = 9.267439930410205\n"
     ]
    }
   ],
   "source": [
    "def newton(f, df, a, e):\n",
    "    \"\"\" Newton's Method\n",
    "\n",
    "    inputs:\n",
    "    f  - a function.\n",
    "    df - derivative of function\n",
    "    a  - Starting interval\n",
    "    e  - Acceptable value for 0; (e.g. consider 0.001 == 0)\n",
    "    \"\"\"\n",
    "    iteration = 0\n",
    "    while f(a) > e:\n",
    "        a = a - f(a)/df(a)\n",
    "        iteration = iteration + 1\n",
    "\n",
    "    print(\"Iterated:\", iteration, \"times.\")\n",
    "    return a\n",
    "\n",
    "range = [0, 2.5, 6.5, 9.5] # Estimations of where roots might be. \n",
    "for i in range:\n",
    "    print('f(0) =', newton(f, df, i, 10**(-7)))"
   ]
  },
  {
   "cell_type": "markdown",
   "metadata": {},
   "source": [
    "### Another Approach using Taylor Series\n",
    "\n",
    "As another approach to the above, we use a Taylor series development. Expanding $f(x)$ about $x_n$,\n",
    "\n",
    "$$\n",
    "f(x) = f(x_n) + (x - x_n)\\ f'(x_n)+\\frac{(x-x_n)^2}{2}f''(\\xi)\n",
    "$$\n",
    "\n",
    "with $\\xi$ between $x$ and $x_n$. Letting $x = \\alpha$ and using $f(\\alpha) = 0$, we solve for $\\alpha$ to obtain\n",
    "\n",
    "$$\n",
    "\\alpha = x_n - \\frac{(x_n)}{f'(x_n)} - \\frac{(a-x_n)^2}{2} \\cdot \\frac{f''(\\xi_n)}{f'(x_n)}\n",
    "$$\n",
    "\n",
    "with $\\xi_n$ between $x_n$ and $\\alpha$. We can drop the error term (the last term) to obtain a better approximation to $\\alpha$ than $x_n$, and we recognize this approximation as $x_{n+1}$ from the header above. Then\n",
    "\n",
    "$$\n",
    "a - x_{x+1} = -(\\alpha - x_n)^2 \\cdot \\frac{f''(\\xi_n)}{2f'(x_n)}, n \\ge 0\n",
    "$$\n",
    "\n",
    "This formula will be used to show that Newton's method has a quadratic order of convergence, $p = 2$. "
   ]
  }
 ],
 "metadata": {
  "kernelspec": {
   "display_name": "Python 3",
   "language": "python",
   "name": "python3"
  },
  "language_info": {
   "codemirror_mode": {
    "name": "ipython",
    "version": 3
   },
   "file_extension": ".py",
   "mimetype": "text/x-python",
   "name": "python",
   "nbconvert_exporter": "python",
   "pygments_lexer": "ipython3",
   "version": "3.6.4"
  }
 },
 "nbformat": 4,
 "nbformat_minor": 2
}
