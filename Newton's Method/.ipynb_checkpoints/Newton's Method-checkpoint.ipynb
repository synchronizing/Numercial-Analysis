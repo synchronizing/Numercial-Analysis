{
 "cells": [
  {
   "cell_type": "markdown",
   "metadata": {},
   "source": [
    "# Newton's Method\n",
    "\n",
    "Assume that an initial estimate $x_0$ is known for the desired root $\\alpha$ of $f(x) = 0$. Newton's method will produce a sequence of iterates $\\{ x_n : x \\ge 1\\}$, which we hope will converge to $\\alpha$. \n",
    "\n",
    "1. Since $x_0$ is assumed close to $\\alpha$, approximate the graph of $y = f(x)$ in the vicinity of its root $\\alpha$ by constructing its tangent line at $(x_0, f(x_0))$. \n",
    "2. Then use the root of this tangent line to approximate $\\alpha$; call this new approximation $x_1$.\n",
    "3. Repeat this process, ad infinitum, to obtain a sequence of iterates $x_n$. \n",
    "\n",
    "$$\n",
    "x_{n+1} = x_n - \\frac{f(x_n)}{f'(x_n)} \\ n \\ge 0\n",
    "$$"
   ]
  },
  {
   "cell_type": "code",
   "execution_count": 1,
   "metadata": {},
   "outputs": [],
   "source": [
    "from math import pow, exp, sin, cos\n",
    "import plotmatlib.plot as plt"
   ]
  },
  {
   "cell_type": "code",
   "execution_count": 5,
   "metadata": {},
   "outputs": [],
   "source": [
    "def f(n):\n",
    "    return exp(-n/5) - sin(n)\n",
    "\n",
    "def df(n):\n",
    "    return 0 - (exp(-n/5)/5) - cos(n)"
   ]
  },
  {
   "cell_type": "code",
   "execution_count": null,
   "metadata": {},
   "outputs": [],
   "source": []
  },
  {
   "cell_type": "code",
   "execution_count": 4,
   "metadata": {},
   "outputs": [
    {
     "name": "stdout",
     "output_type": "stream",
     "text": [
      "Iterated: 4 times.\n",
      "f(0) = 0.9683197983706969\n",
      "Iterated: 2 times.\n",
      "f(0) = 2.4880810122075436\n",
      "Iterated: 2 times.\n",
      "f(0) = 6.556052464510788\n",
      "Iterated: 2 times.\n",
      "f(0) = 9.267439930410205\n"
     ]
    }
   ],
   "source": [
    "def newton(f, df, a, e):\n",
    "    \"\"\" Newton's Method\n",
    "\n",
    "    inputs:\n",
    "    f  - a function.\n",
    "    df - derivative of function\n",
    "    a  - Starting interval\n",
    "    e  - Acceptable value for 0; (e.g. consider 0.001 == 0)\n",
    "    \"\"\"\n",
    "    iteration = 0\n",
    "    while f(a) > e:\n",
    "        a = a - f(a)/df(a)\n",
    "        iteration = iteration + 1\n",
    "\n",
    "    print(\"Iterated:\", iteration, \"times.\")\n",
    "    return a\n",
    "\n",
    "range = [0, 2.5, 6.5, 9.5]\n",
    "for i in range:\n",
    "    print('f(0) =', newton(f, df, i, 10**(-7)))"
   ]
  },
  {
   "cell_type": "code",
   "execution_count": null,
   "metadata": {},
   "outputs": [],
   "source": []
  }
 ],
 "metadata": {
  "kernelspec": {
   "display_name": "Python 3",
   "language": "python",
   "name": "python3"
  },
  "language_info": {
   "codemirror_mode": {
    "name": "ipython",
    "version": 3
   },
   "file_extension": ".py",
   "mimetype": "text/x-python",
   "name": "python",
   "nbconvert_exporter": "python",
   "pygments_lexer": "ipython3",
   "version": "3.6.4"
  }
 },
 "nbformat": 4,
 "nbformat_minor": 2
}
