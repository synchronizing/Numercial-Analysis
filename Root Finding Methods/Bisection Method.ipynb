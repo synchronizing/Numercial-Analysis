{
 "cells": [
  {
   "cell_type": "markdown",
   "metadata": {},
   "source": [
    "# Bisection Method\n",
    "\n",
    "Assume that $f(x)$ is continuous on a given interval $\\left[a, b \\right]$ and that is also satisfies\n",
    "\n",
    "$$\n",
    "f(a) \\cdot f(b) < 0\n",
    "$$\n",
    "\n",
    "as to say that the result of $f(a)$ times $f(b)$ have to have opposite signs as to satisfy their multiplications to be negative. \n",
    "\n",
    "Using the intermediate value theorem, the function $f(x)$ must have at least one root in $[a, b]$: in this case a root value k where  $a \\le k \\le b$ and $f(k) = 0$. This is why you must pick two numbers $a$ and $b$ with opposite signs $[-, +]$. "
   ]
  },
  {
   "cell_type": "code",
   "execution_count": 2,
   "metadata": {},
   "outputs": [],
   "source": [
    "from math import pow, exp, sin\n",
    "import matplotlib.pyplot as plt\n",
    "import numpy as np"
   ]
  },
  {
   "cell_type": "code",
   "execution_count": 5,
   "metadata": {},
   "outputs": [],
   "source": [
    "def f(n):\n",
    "    return np.exp(-n/5) - np.sin(n)"
   ]
  },
  {
   "cell_type": "markdown",
   "metadata": {},
   "source": [
    "### Graph of the Function"
   ]
  },
  {
   "cell_type": "code",
   "execution_count": 6,
   "metadata": {},
   "outputs": [
    {
     "data": {
      "text/plain": [
       "<matplotlib.lines.Line2D at 0x10c998470>"
      ]
     },
     "execution_count": 6,
     "metadata": {},
     "output_type": "execute_result"
    },
    {
     "data": {
      "image/png": "[encoded data removed]",
      "text/plain": [
       "<Figure size 432x288 with 1 Axes>"
      ]
     },
     "metadata": {},
     "output_type": "display_data"
    }
   ],
   "source": [
    "t1 = np.arange(-5, 10, 0.1)\n",
    "plt.plot(t1, f(t1))\n",
    "\n",
    "plt.axhline(0, color='black')\n",
    "plt.axvline(0, color='black')"
   ]
  },
  {
   "cell_type": "markdown",
   "metadata": {},
   "source": [
    "### Find Roots\n",
    "\n",
    "The interval $[a, b]$ is halved in size for every pass through the algorithm. Because of line 17 through 19 on the code below, $[a, b]$ will always contain a root of $f(x)$. Since a root $\\alpha$ is in the range of $[a, b]$, it must lie within either $[a, c]$ or $[c, b]$; and consequently\n",
    "\n",
    "$$\n",
    "| \\ c - \\alpha \\ | \\ge b - c = c - a\n",
    "$$\n",
    "\n",
    "This is justficiation for the test on line 14. On completion of the algortihm, $c$ will be an approximation to the root with \n",
    "\n",
    "$$\n",
    "| \\ c - \\alpha \\ | \\le \\epsilon\n",
    "$$"
   ]
  },
  {
   "cell_type": "code",
   "execution_count": 7,
   "metadata": {},
   "outputs": [],
   "source": [
    "def bisect(f, a, b, e):\n",
    "    \"\"\" Bisection Method\n",
    "\n",
    "    inputs:\n",
    "    f - a function.\n",
    "    a - Starting interval\n",
    "    b - Ending interval\n",
    "    e - Acceptable value for 0; (e.g. consider 0.001 == 0)\n",
    "    \"\"\"\n",
    "\n",
    "    iterations = 0\n",
    "    while(True):\n",
    "        c = (a + b)/2\n",
    "        if b - c <= e:\n",
    "            print('Iterated:', iterations, 'times.')\n",
    "            return c\n",
    "        elif f(b)*f(c) <= 0:\n",
    "            a = c\n",
    "        else:\n",
    "            b = c\n",
    "        iterations += 1"
   ]
  },
  {
   "cell_type": "code",
   "execution_count": 9,
   "metadata": {},
   "outputs": [
    {
     "name": "stdout",
     "output_type": "stream",
     "text": [
      "Iterated: 24 times.\n",
      "f(0) = 0.968319833278656\n",
      "Iterated: 25 times.\n",
      "f(0) = 2.4880810379981995\n",
      "Iterated: 24 times.\n",
      "f(0) = 6.556052416563034\n",
      "Iterated: 23 times.\n",
      "f(0) = 9.267439901828766\n"
     ]
    }
   ],
   "source": [
    "r = [0, 2, 6, 9, 10]\n",
    "# Using the bisection method between the ranges [0, 2], [2, 6], etc. to find all roots. \n",
    "# Utilizing estimation given by the graph above.\n",
    "for i in range(len(r)-1):\n",
    "    print('f(0) =', bisect(f, r[i], r[i+1], 10**(-7)))"
   ]
  },
  {
   "cell_type": "markdown",
   "metadata": {},
   "source": [
    "### Speed Convergence\n",
    "\n",
    "To examine the speed of convergence, let $c_n$ denote the nth value of $c$ in the algorithm. Then it is easy to see that\n",
    "\n",
    "$$\n",
    "\\alpha = \\lim_{n \\to \\infty} c_n \\\\\n",
    "|\\alpha - c_n| \\le \\left[ \\frac{1}{2} \\right]^n (b - a)\n",
    "$$\n",
    "\n",
    "Where $b - a$ denotes the length of the original interval input _Bisect_. Using the variant (2.0.14) for defining linear convergence, we say that the bisection method converges linearly with a rate of $t$. The actual error may not decrease by a factor of $\\frac{1}{2}$ at each step, but the average rate of decrease is $\\frac{1}{2}$, based on (2.1.4). The preceding example illustrates the result (2.1.4).\n",
    "\n",
    "### Problems\n",
    "\n",
    "1. A practical program would take account of the unit round on the machine , adjusting the given $e$ if necessary.\n",
    "2. Converges very slowly when compared with the methods defined in the following sections.\n",
    "\n",
    "### Advantages\n",
    "\n",
    "1. Is guaranteed to converge (provided $f$ is continuous on $[a, b]$ and (2.1.1) is satisfied.\n",
    "2. A resonable error bound is available.\n",
    "\n",
    "### Misc\n",
    "\n",
    "Methods that at every step give/upper and lower bounds on the root $\\alpha$ are called **enclosure methods**. In Section 2.8, we describe an enclosure algorithm that combines the previously stated advantages of the bisection method with the faster convergence of the secant method (described in Section 2.3)."
   ]
  },
  {
   "cell_type": "markdown",
   "metadata": {},
   "source": [
    "## Rate of Convergence\n",
    "\n",
    "In numerical analysis, the speed at which a convergent sequence (a function that eventually approaches a number) approaches its limit is called the rate of convergence. Although strictly speaking, a limit does not give information about any finite first part of the sequence, the concept of rate of convergence is of practical importance when working with a sequence of successive approximations for an iterative method, as then typically fewer iterations are needed to yield a useful approximation if the rate of convergence is higher. This may even make the difference between needing ten or a million iterations.\n",
    "\n",
    "Let the sequence $\\{r_n\\}$ converge to $r$. Denote the difference between $r_n$ and $r$ by $e_n$; i.e. $e_n = e_n - r$. If there exists a positive number $p \\ge 1$ and a constant $c \\ne 0$ such that\n",
    "\n",
    "$$\n",
    "\\lim_{n \\to \\infty} \\frac{| r_{n+1} - r|}{|r_n - r|^p} = \\lim_{n \\to \\infty} \\frac{|e_{n+1}|}{|e_n|^p} = c\n",
    "$$\n",
    "\n",
    "the $p$ is called the order of convergence of the sequence. The constant $c$ is called the asymptotic error constant. Some pointers to keep in mind:\n",
    "\n",
    "* If $p$ is large, then the sequence $\\{r_n\\}$ converges rapidly to $r$.\n",
    "* If $p = 1$ and $c < 1$, the the convergence is said to be linear, and $c$ is called the rate of convergence;\n",
    "* If $p = 2$, then it is quadratic.\n",
    "\n",
    "### Example\n",
    "\n",
    "Given the two sequences\n",
    "\n",
    "$$\n",
    "\\left\\{\\frac{11}{2}, \\frac{21}{4}, \\cdots, 5 + \\frac{1}{2^n}, \\cdots \\right\\} \\text{and} \\left\\{ \\frac{11}{2}, \\frac{41}{8}, \\cdots, 5 + \\frac{1}{2^{2^n - 1}}, \\cdots \\right\\}\n",
    "$$\n",
    "\n",
    "Both sequence converge to $5$. However, it seems that the second sequence converges faster to $5$ than does the first one.\n",
    "\n",
    "$$\n",
    "\\text{First Sequence} \\\\\n",
    "a_n = r_n - r = \\frac{1}{2^n} \\\\\n",
    "\\lim_{n \\to \\infty} \\frac{|e_{n+1}|}{|e_n|} = \\lim_{n \\to \\infty} \\frac{2^n}{2^{n+1}} = \\frac{1}{2}\n",
    "$$\n",
    "\n",
    "$$\n",
    "\\text{Second Sequence} \\\\\n",
    "e_n = r_n - r = \\frac{1}{2^{2^n - 1}} \\\\\n",
    "\\lim_{n \\to \\infty} \\frac{|e_{n+1}|}{|e_n|} = \\lim_{n \\to \\infty} \\frac{\\frac{1}{2^{2^{n+1} - 1}}}{\\frac{1}{(2^{2^n - 1})^2}} = \\frac{1}{2}\n",
    "$$\n",
    "\n",
    "First sequence converges linearly ($p = 1$) to $5$, while second sequence converges quadratically $p = 2$ to $5$. "
   ]
  }
 ],
 "metadata": {
  "kernelspec": {
   "display_name": "Python 3",
   "language": "python",
   "name": "python3"
  },
  "language_info": {
   "codemirror_mode": {
    "name": "ipython",
    "version": 3
   },
   "file_extension": ".py",
   "mimetype": "text/x-python",
   "name": "python",
   "nbconvert_exporter": "python",
   "pygments_lexer": "ipython3",
   "version": "3.6.4"
  }
 },
 "nbformat": 4,
 "nbformat_minor": 2
}
